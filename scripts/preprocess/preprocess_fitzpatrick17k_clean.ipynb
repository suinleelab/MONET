{
 "cells": [
  {
   "cell_type": "code",
   "execution_count": null,
   "metadata": {},
   "outputs": [],
   "source": [
    "import os\n",
    "\n",
    "import hydra\n",
    "import omegaconf\n",
    "import pyrootutils\n",
    "\n",
    "root = pyrootutils.setup_root(os.path.abspath(\"preprocess_fitzpatrick17k.ipynb\"), pythonpath=True)\n",
    "import os\n",
    "\n",
    "os.chdir(root)"
   ]
  },
  {
   "cell_type": "code",
   "execution_count": null,
   "metadata": {},
   "outputs": [],
   "source": [
    "import sys\n",
    "\n",
    "sys.path.append(str(root / \"src\"))"
   ]
  },
  {
   "cell_type": "code",
   "execution_count": null,
   "metadata": {},
   "outputs": [],
   "source": [
    "import pandas as pd\n",
    "\n",
    "from MONET.utils.io import load_pkl, save_to_pkl"
   ]
  },
  {
   "cell_type": "code",
   "execution_count": null,
   "metadata": {},
   "outputs": [],
   "source": [
    "clean_indices = pd.read_csv(\"data/fitzpatrick17k/threshold.txt\", header=None)[0]"
   ]
  },
  {
   "cell_type": "code",
   "execution_count": null,
   "metadata": {},
   "outputs": [],
   "source": [
    "fitzpatrick17k_metadata = pd.read_pickle(\"data/fitzpatrick17k/fitzpatrick17k.metadata.pkl\")"
   ]
  },
  {
   "cell_type": "code",
   "execution_count": null,
   "metadata": {},
   "outputs": [],
   "source": [
    "fitzpatrick17k_metadata_cleaned = fitzpatrick17k_metadata[\n",
    "    fitzpatrick17k_metadata[\"md5hash\"].isin(clean_indices)\n",
    "]"
   ]
  },
  {
   "cell_type": "code",
   "execution_count": null,
   "metadata": {},
   "outputs": [],
   "source": [
    "fitzpatrick17k_metadata_cleaned.to_pickle(\n",
    "    \"data/fitzpatrick17k/fitzpatrick17k.metadata.cleaned.pkl\"\n",
    ")"
   ]
  },
  {
   "cell_type": "code",
   "execution_count": null,
   "metadata": {},
   "outputs": [],
   "source": [
    "!cp data/fitzpatrick17k/fitzpatrick17k.metadata.cleaned.pkl /sdata/chanwkim/dermatology_datasets/fitzpatrick17k/final_metadata_all.cleaned.pkl"
   ]
  },
  {
   "cell_type": "code",
   "execution_count": null,
   "metadata": {},
   "outputs": [],
   "source": []
  }
 ],
 "metadata": {
  "kernelspec": {
   "display_name": "MONET",
   "language": "python",
   "name": "python3"
  },
  "language_info": {
   "codemirror_mode": {
    "name": "ipython",
    "version": 3
   },
   "file_extension": ".py",
   "mimetype": "text/x-python",
   "name": "python",
   "nbconvert_exporter": "python",
   "pygments_lexer": "ipython3",
   "version": "3.9.15 (main, Nov 24 2022, 14:31:59) \n[GCC 11.2.0]"
  },
  "vscode": {
   "interpreter": {
    "hash": "6f96b0512c440bd48adaa6b3aa81dab76bc02967d1215e8a16b0e7ec693d93c3"
   }
  }
 },
 "nbformat": 4,
 "nbformat_minor": 2
}
